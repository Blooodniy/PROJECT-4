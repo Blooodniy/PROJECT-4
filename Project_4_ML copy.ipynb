{
 "cells": [
  {
   "cell_type": "markdown",
   "id": "c353de9a",
   "metadata": {},
   "source": [
    "# Проект: классификация"
   ]
  },
  {
   "cell_type": "code",
   "execution_count": 27,
   "id": "4a6e54dc",
   "metadata": {},
   "outputs": [],
   "source": [
    "import pandas as pd\n",
    "import numpy as np\n",
    "import matplotlib.pyplot as plt\n",
    "import seaborn as sns\n",
    "from  sklearn.ensemble import IsolationForest\n",
    "import warnings\n",
    "warnings.filterwarnings('ignore')\n",
    "from sklearn.preprocessing  import LabelEncoder\n",
    "from sklearn import linear_model \n",
    "from sklearn import tree \n",
    "from sklearn import ensemble \n",
    "from sklearn import metrics \n",
    "from sklearn import preprocessing \n",
    "from sklearn.model_selection import train_test_split \n",
    "from sklearn.feature_selection import SelectKBest, f_classif"
   ]
  },
  {
   "cell_type": "markdown",
   "id": "71559b60",
   "metadata": {},
   "source": [
    "## Часть 1. Знакомство с данными, обработка пропусков и выбросов"
   ]
  },
  {
   "cell_type": "markdown",
   "id": "7c5e31b2",
   "metadata": {},
   "source": [
    "### Задание 1"
   ]
  },
  {
   "cell_type": "code",
   "execution_count": 28,
   "id": "20730cd7",
   "metadata": {},
   "outputs": [],
   "source": [
    "df = pd.read_csv('data/bank_fin.csv', sep = ';')"
   ]
  },
  {
   "cell_type": "code",
   "execution_count": 29,
   "id": "ba11dc67",
   "metadata": {},
   "outputs": [
    {
     "data": {
      "text/plain": [
       "age           0\n",
       "job           0\n",
       "marital       0\n",
       "education     0\n",
       "default       0\n",
       "balance      25\n",
       "housing       0\n",
       "loan          0\n",
       "contact       0\n",
       "day           0\n",
       "month         0\n",
       "duration      0\n",
       "campaign      0\n",
       "pdays         0\n",
       "previous      0\n",
       "poutcome      0\n",
       "deposit       0\n",
       "dtype: int64"
      ]
     },
     "execution_count": 29,
     "metadata": {},
     "output_type": "execute_result"
    }
   ],
   "source": [
    "# исследуйте данные на предмет пропусков. Где есть пропущенные значения? Сколько их?\n",
    "# ваш код\n",
    "df.isnull().sum()"
   ]
  },
  {
   "cell_type": "markdown",
   "id": "6366f059",
   "metadata": {},
   "source": [
    "### Задание 2"
   ]
  },
  {
   "cell_type": "code",
   "execution_count": 30,
   "id": "98ea29d4",
   "metadata": {},
   "outputs": [
    {
     "data": {
      "text/plain": [
       "job\n",
       "management       2566\n",
       "blue-collar      1944\n",
       "technician       1823\n",
       "admin.           1334\n",
       "services          923\n",
       "retired           778\n",
       "self-employed     405\n",
       "student           360\n",
       "unemployed        357\n",
       "entrepreneur      328\n",
       "housemaid         274\n",
       "unknown            70\n",
       "Name: count, dtype: int64"
      ]
     },
     "execution_count": 30,
     "metadata": {},
     "output_type": "execute_result"
    }
   ],
   "source": [
    "# есть ли в признаке job пропущенные значения? Возможно, они обозначены каким-то специальным словом?\n",
    "# ваш код\n",
    "df['job'].value_counts()"
   ]
  },
  {
   "cell_type": "markdown",
   "id": "8fcf4fcd",
   "metadata": {},
   "source": [
    "### Задание 3"
   ]
  },
  {
   "cell_type": "code",
   "execution_count": 31,
   "id": "3a01be5e",
   "metadata": {},
   "outputs": [
    {
     "data": {
      "text/plain": [
       "1529.129"
      ]
     },
     "execution_count": 31,
     "metadata": {},
     "output_type": "execute_result"
    }
   ],
   "source": [
    "# преобразуйте признак balance таким образом, чтобы он корректно считывался, как вещественное число (float)\n",
    "def get_float(value):\n",
    "    if type(value) == str:\n",
    "        value = value.replace(' ', '').replace('$', '').replace(',', '.')\n",
    "        return float(value)\n",
    "\n",
    "df['balance'] = df['balance'].apply(get_float)\n",
    "round(df['balance'].mean(), 3)"
   ]
  },
  {
   "cell_type": "markdown",
   "id": "6de63fd7",
   "metadata": {},
   "source": [
    "### Задание 4"
   ]
  },
  {
   "cell_type": "code",
   "execution_count": 32,
   "id": "6a684a63",
   "metadata": {},
   "outputs": [
    {
     "data": {
      "text/plain": [
       "1526.936"
      ]
     },
     "execution_count": 32,
     "metadata": {},
     "output_type": "execute_result"
    }
   ],
   "source": [
    "# обработайте пропуски в признаки balance , заменив их на медианные значения по данному признаку\n",
    "# ваш код\n",
    "df['balance'].fillna(df['balance'].median(), inplace=True)\n",
    "round(df['balance'].mean(), 3)"
   ]
  },
  {
   "cell_type": "markdown",
   "id": "1097ec42",
   "metadata": {},
   "source": [
    "### Задание 5"
   ]
  },
  {
   "cell_type": "code",
   "execution_count": 33,
   "id": "0fa070a6",
   "metadata": {},
   "outputs": [
    {
     "data": {
      "text/plain": [
       "1598.883"
      ]
     },
     "execution_count": 33,
     "metadata": {},
     "output_type": "execute_result"
    }
   ],
   "source": [
    "# обработайте пропуски в категориальных признаках: job и education, заменив их на модальные значения\n",
    "# ваш код\n",
    "job_mode = df['job'].mode()[0]\n",
    "education_mode = df['education'].mode()[0]\n",
    "\n",
    "df['job'].loc[df['job']=='unknown'] = job_mode\n",
    "df['education'].loc[df['education']=='unknown'] = education_mode\n",
    "\n",
    "mask1 = df['job'] == job_mode\n",
    "mask2 = df['education'] == education_mode\n",
    "round(df['balance'][mask1 & mask2].mean(), 3)"
   ]
  },
  {
   "cell_type": "markdown",
   "id": "02af77c6",
   "metadata": {},
   "source": [
    "### Задание 6"
   ]
  },
  {
   "cell_type": "code",
   "execution_count": 35,
   "id": "e8a371e3",
   "metadata": {},
   "outputs": [
    {
     "data": {
      "text/plain": [
       "123.0"
      ]
     },
     "execution_count": 35,
     "metadata": {},
     "output_type": "execute_result"
    }
   ],
   "source": [
    "df['balance'].quantile(0.25)"
   ]
  },
  {
   "cell_type": "code",
   "execution_count": 36,
   "id": "ca5886a3",
   "metadata": {},
   "outputs": [
    {
     "data": {
      "text/plain": [
       "1699.0"
      ]
     },
     "execution_count": 36,
     "metadata": {},
     "output_type": "execute_result"
    }
   ],
   "source": [
    "df['balance'].quantile(0.75)"
   ]
  },
  {
   "cell_type": "code",
   "execution_count": 39,
   "id": "3802cdd9",
   "metadata": {},
   "outputs": [
    {
     "name": "stdout",
     "output_type": "stream",
     "text": [
      "-2241.0 4063.0\n"
     ]
    },
    {
     "data": {
      "text/plain": [
       "10105"
      ]
     },
     "execution_count": 39,
     "metadata": {},
     "output_type": "execute_result"
    }
   ],
   "source": [
    "# удалите все выбросы для признака balance\n",
    "# ваш код\n",
    "q1 = df['balance'].quantile(0.25)\n",
    "q3 = df['balance'].quantile(0.75)\n",
    "low_bound = q1 - 1.5 * (q3-q1)\n",
    "high_bound = q3 + 1.5 * (q3-q1)\n",
    "print(low_bound, high_bound)\n",
    "df = df[(df['balance'] >= low_bound) & (df['balance'] <= high_bound)]\n",
    "df.shape[0]"
   ]
  },
  {
   "cell_type": "markdown",
   "id": "5d22b8cd",
   "metadata": {},
   "source": [
    "## Часть 2:  Разведывательный анализ"
   ]
  },
  {
   "cell_type": "markdown",
   "id": "21e1f083",
   "metadata": {},
   "source": [
    "### Задание 1"
   ]
  },
  {
   "cell_type": "code",
   "execution_count": 23,
   "id": "6d0cd3a8",
   "metadata": {},
   "outputs": [
    {
     "data": {
      "image/png": "[encoded data removed]",
      "text/plain": [
       "<Figure size 640x480 with 1 Axes>"
      ]
     },
     "metadata": {},
     "output_type": "display_data"
    }
   ],
   "source": [
    "# изучите соотношение классов в ваших данных на предмет несбалансированности, проиллюстрируйте результат\n",
    "# ваш код\n",
    "fig = sns.countplot(x=df['deposit'], hue=df['deposit'])\n",
    "fig.set_title(\"Distribution Of deposit\")\n",
    "for container in fig.containers:\n",
    "    fig.bar_label(container)\n",
    "plt.show()"
   ]
  },
  {
   "cell_type": "markdown",
   "id": "426b1d40",
   "metadata": {},
   "source": [
    "### Задания 2 и 3"
   ]
  },
  {
   "cell_type": "code",
   "execution_count": 108,
   "id": "603cdb3c",
   "metadata": {},
   "outputs": [
    {
     "data": {
      "image/png": "[encoded data removed]",
      "text/plain": [
       "<Figure size 1000x400 with 1 Axes>"
      ]
     },
     "metadata": {},
     "output_type": "display_data"
    }
   ],
   "source": [
    "#рассчитайте описательные статистики для количественных переменных, проинтерпретируйте результат\n",
    "#ваш код\n",
    "fig= plt.figure(figsize=(10,4))\n",
    "fig = sns.histplot(df['age'], bins=df['age'].value_counts().shape[0])\n",
    "fig.set_title('Distribution Of age')\n",
    "fig2 = plt.axvline(df['age'].max(), color='red')\n",
    "plt.text(x=df['age'].max()-2, y=180, s=f'max age = {df[\"age\"].max()}', rotation=90)\n",
    "plt.show()"
   ]
  },
  {
   "cell_type": "markdown",
   "id": "3d410d8f",
   "metadata": {},
   "source": [
    "Возраст большинства клиентов находится где-то между 25 и 60 годами. Распределение напоминает логнормальное. Максимальный возраст 95 лет."
   ]
  },
  {
   "cell_type": "code",
   "execution_count": 98,
   "id": "1a25e72c",
   "metadata": {},
   "outputs": [
    {
     "data": {
      "image/png": "[encoded data removed]",
      "text/plain": [
       "<Figure size 640x480 with 1 Axes>"
      ]
     },
     "metadata": {},
     "output_type": "display_data"
    }
   ],
   "source": [
    "fig = sns.histplot(df['balance'])\n",
    "fig.set_title('Distribution Of balance')\n",
    "plt.show()"
   ]
  },
  {
   "cell_type": "markdown",
   "id": "e829609d",
   "metadata": {},
   "source": [
    "Основной баланс клиентов находится в районе нуля. Распределение также напоминает логнормальное или нормальное, по крайней мере в правой части. В области с отрицательным балансом график резко обрывается."
   ]
  },
  {
   "cell_type": "code",
   "execution_count": 113,
   "id": "97a41b87",
   "metadata": {},
   "outputs": [
    {
     "data": {
      "image/png": "[encoded data removed]",
      "text/plain": [
       "<Figure size 640x480 with 1 Axes>"
      ]
     },
     "metadata": {},
     "output_type": "display_data"
    }
   ],
   "source": [
    "fig = sns.histplot(df['day'], bins=df['day'].value_counts().shape[0])\n",
    "fig.set_title('Distribution Of day')\n",
    "plt.show()"
   ]
  },
  {
   "cell_type": "markdown",
   "id": "5b17e805",
   "metadata": {},
   "source": [
    "Переменная day вряд ли имеет много смысла в отрыве от месяца, т.к. показывает только число. Даже каких-то выводов об активности в начале, конце или середине месяца сложно сделать."
   ]
  },
  {
   "cell_type": "code",
   "execution_count": 107,
   "id": "dd8f2d8d",
   "metadata": {},
   "outputs": [
    {
     "data": {
      "image/png": "[encoded data removed]",
      "text/plain": [
       "<Figure size 640x480 with 1 Axes>"
      ]
     },
     "metadata": {},
     "output_type": "display_data"
    }
   ],
   "source": [
    "fig = sns.histplot(df['duration'])\n",
    "fig.set_title('Distribution Of duration')\n",
    "fig2 = plt.axvline(df['duration'].min(), color='red')\n",
    "plt.text(x=df['duration'].min()-130, y=250, s=f'min duration = {df[\"duration\"].min()}', rotation=90)\n",
    "plt.show()"
   ]
  },
  {
   "cell_type": "markdown",
   "id": "037b1ef9",
   "metadata": {},
   "source": [
    "Здесь распределение очень похоже даже не на логнормальное, а на степенной закон. Минимальная длительность контакта - 2 секунды."
   ]
  },
  {
   "cell_type": "code",
   "execution_count": 115,
   "id": "15fa4a80",
   "metadata": {},
   "outputs": [
    {
     "data": {
      "image/png": "[encoded data removed]",
      "text/plain": [
       "<Figure size 640x480 with 1 Axes>"
      ]
     },
     "metadata": {},
     "output_type": "display_data"
    }
   ],
   "source": [
    "fig = sns.histplot(df['campaign'])\n",
    "fig.set_title('Distribution Of campaign')\n",
    "plt.show()"
   ]
  },
  {
   "cell_type": "markdown",
   "id": "ea964ba7",
   "metadata": {},
   "source": [
    "Количесвто контактов с одним клиентом тоже убывает, напоминая степенной закон или логнормальное распределение."
   ]
  },
  {
   "cell_type": "code",
   "execution_count": 117,
   "id": "e9b73c83",
   "metadata": {},
   "outputs": [
    {
     "data": {
      "image/png": "[encoded data removed]",
      "text/plain": [
       "<Figure size 640x480 with 1 Axes>"
      ]
     },
     "metadata": {},
     "output_type": "display_data"
    }
   ],
   "source": [
    "fig = sns.histplot(df['pdays'], bins=df['pdays'].value_counts().shape[0])\n",
    "fig.set_title('Distribution Of pdays')\n",
    "plt.show()"
   ]
  },
  {
   "cell_type": "markdown",
   "id": "42c7ff29",
   "metadata": {},
   "source": [
    "Видимо, такое большое значение в нуле связано с тем, что здесь последней кампанией считается текущая и поэтому клиенты, с которыми был контакт только что помечены 0 пропущенных дней."
   ]
  },
  {
   "cell_type": "code",
   "execution_count": 119,
   "id": "33fab380",
   "metadata": {},
   "outputs": [
    {
     "data": {
      "image/png": "[encoded data removed]",
      "text/plain": [
       "<Figure size 640x480 with 1 Axes>"
      ]
     },
     "metadata": {},
     "output_type": "display_data"
    }
   ],
   "source": [
    "fig = sns.histplot(df['previous'])\n",
    "fig.set_title('Distribution Of previous')\n",
    "plt.show()"
   ]
  },
  {
   "cell_type": "markdown",
   "id": "c5ec1479",
   "metadata": {},
   "source": [
    "С большей частью клиентов вообще не было контактов во время маркетинговых кампаний."
   ]
  },
  {
   "cell_type": "code",
   "execution_count": 109,
   "id": "4814d3dd",
   "metadata": {},
   "outputs": [
    {
     "data": {
      "text/html": [
       "<div>\n",
       "<style scoped>\n",
       "    .dataframe tbody tr th:only-of-type {\n",
       "        vertical-align: middle;\n",
       "    }\n",
       "\n",
       "    .dataframe tbody tr th {\n",
       "        vertical-align: top;\n",
       "    }\n",
       "\n",
       "    .dataframe thead th {\n",
       "        text-align: right;\n",
       "    }\n",
       "</style>\n",
       "<table border=\"1\" class=\"dataframe\">\n",
       "  <thead>\n",
       "    <tr style=\"text-align: right;\">\n",
       "      <th></th>\n",
       "      <th>age</th>\n",
       "      <th>job</th>\n",
       "      <th>marital</th>\n",
       "      <th>education</th>\n",
       "      <th>default</th>\n",
       "      <th>balance</th>\n",
       "      <th>housing</th>\n",
       "      <th>loan</th>\n",
       "      <th>contact</th>\n",
       "      <th>day</th>\n",
       "      <th>month</th>\n",
       "      <th>duration</th>\n",
       "      <th>campaign</th>\n",
       "      <th>pdays</th>\n",
       "      <th>previous</th>\n",
       "      <th>poutcome</th>\n",
       "      <th>deposit</th>\n",
       "    </tr>\n",
       "  </thead>\n",
       "  <tbody>\n",
       "    <tr>\n",
       "      <th>0</th>\n",
       "      <td>59</td>\n",
       "      <td>admin.</td>\n",
       "      <td>married</td>\n",
       "      <td>secondary</td>\n",
       "      <td>no</td>\n",
       "      <td>2343.0</td>\n",
       "      <td>yes</td>\n",
       "      <td>no</td>\n",
       "      <td>unknown</td>\n",
       "      <td>5</td>\n",
       "      <td>may</td>\n",
       "      <td>1042</td>\n",
       "      <td>1</td>\n",
       "      <td>-1</td>\n",
       "      <td>0</td>\n",
       "      <td>unknown</td>\n",
       "      <td>yes</td>\n",
       "    </tr>\n",
       "    <tr>\n",
       "      <th>1</th>\n",
       "      <td>56</td>\n",
       "      <td>admin.</td>\n",
       "      <td>married</td>\n",
       "      <td>secondary</td>\n",
       "      <td>no</td>\n",
       "      <td>45.0</td>\n",
       "      <td>no</td>\n",
       "      <td>no</td>\n",
       "      <td>unknown</td>\n",
       "      <td>5</td>\n",
       "      <td>may</td>\n",
       "      <td>1467</td>\n",
       "      <td>1</td>\n",
       "      <td>-1</td>\n",
       "      <td>0</td>\n",
       "      <td>unknown</td>\n",
       "      <td>yes</td>\n",
       "    </tr>\n",
       "    <tr>\n",
       "      <th>2</th>\n",
       "      <td>41</td>\n",
       "      <td>technician</td>\n",
       "      <td>married</td>\n",
       "      <td>secondary</td>\n",
       "      <td>no</td>\n",
       "      <td>1270.0</td>\n",
       "      <td>yes</td>\n",
       "      <td>no</td>\n",
       "      <td>unknown</td>\n",
       "      <td>5</td>\n",
       "      <td>may</td>\n",
       "      <td>1389</td>\n",
       "      <td>1</td>\n",
       "      <td>-1</td>\n",
       "      <td>0</td>\n",
       "      <td>unknown</td>\n",
       "      <td>yes</td>\n",
       "    </tr>\n",
       "    <tr>\n",
       "      <th>3</th>\n",
       "      <td>55</td>\n",
       "      <td>services</td>\n",
       "      <td>married</td>\n",
       "      <td>secondary</td>\n",
       "      <td>no</td>\n",
       "      <td>2476.0</td>\n",
       "      <td>yes</td>\n",
       "      <td>no</td>\n",
       "      <td>unknown</td>\n",
       "      <td>5</td>\n",
       "      <td>may</td>\n",
       "      <td>579</td>\n",
       "      <td>1</td>\n",
       "      <td>-1</td>\n",
       "      <td>0</td>\n",
       "      <td>unknown</td>\n",
       "      <td>yes</td>\n",
       "    </tr>\n",
       "    <tr>\n",
       "      <th>4</th>\n",
       "      <td>54</td>\n",
       "      <td>admin.</td>\n",
       "      <td>married</td>\n",
       "      <td>tertiary</td>\n",
       "      <td>no</td>\n",
       "      <td>184.0</td>\n",
       "      <td>no</td>\n",
       "      <td>no</td>\n",
       "      <td>unknown</td>\n",
       "      <td>5</td>\n",
       "      <td>may</td>\n",
       "      <td>673</td>\n",
       "      <td>2</td>\n",
       "      <td>-1</td>\n",
       "      <td>0</td>\n",
       "      <td>unknown</td>\n",
       "      <td>yes</td>\n",
       "    </tr>\n",
       "    <tr>\n",
       "      <th>...</th>\n",
       "      <td>...</td>\n",
       "      <td>...</td>\n",
       "      <td>...</td>\n",
       "      <td>...</td>\n",
       "      <td>...</td>\n",
       "      <td>...</td>\n",
       "      <td>...</td>\n",
       "      <td>...</td>\n",
       "      <td>...</td>\n",
       "      <td>...</td>\n",
       "      <td>...</td>\n",
       "      <td>...</td>\n",
       "      <td>...</td>\n",
       "      <td>...</td>\n",
       "      <td>...</td>\n",
       "      <td>...</td>\n",
       "      <td>...</td>\n",
       "    </tr>\n",
       "    <tr>\n",
       "      <th>11157</th>\n",
       "      <td>33</td>\n",
       "      <td>blue-collar</td>\n",
       "      <td>single</td>\n",
       "      <td>primary</td>\n",
       "      <td>no</td>\n",
       "      <td>1.0</td>\n",
       "      <td>yes</td>\n",
       "      <td>no</td>\n",
       "      <td>cellular</td>\n",
       "      <td>20</td>\n",
       "      <td>apr</td>\n",
       "      <td>257</td>\n",
       "      <td>1</td>\n",
       "      <td>-1</td>\n",
       "      <td>0</td>\n",
       "      <td>unknown</td>\n",
       "      <td>no</td>\n",
       "    </tr>\n",
       "    <tr>\n",
       "      <th>11158</th>\n",
       "      <td>39</td>\n",
       "      <td>services</td>\n",
       "      <td>married</td>\n",
       "      <td>secondary</td>\n",
       "      <td>no</td>\n",
       "      <td>733.0</td>\n",
       "      <td>no</td>\n",
       "      <td>no</td>\n",
       "      <td>unknown</td>\n",
       "      <td>16</td>\n",
       "      <td>jun</td>\n",
       "      <td>83</td>\n",
       "      <td>4</td>\n",
       "      <td>-1</td>\n",
       "      <td>0</td>\n",
       "      <td>unknown</td>\n",
       "      <td>no</td>\n",
       "    </tr>\n",
       "    <tr>\n",
       "      <th>11159</th>\n",
       "      <td>32</td>\n",
       "      <td>technician</td>\n",
       "      <td>single</td>\n",
       "      <td>secondary</td>\n",
       "      <td>no</td>\n",
       "      <td>29.0</td>\n",
       "      <td>no</td>\n",
       "      <td>no</td>\n",
       "      <td>cellular</td>\n",
       "      <td>19</td>\n",
       "      <td>aug</td>\n",
       "      <td>156</td>\n",
       "      <td>2</td>\n",
       "      <td>-1</td>\n",
       "      <td>0</td>\n",
       "      <td>unknown</td>\n",
       "      <td>no</td>\n",
       "    </tr>\n",
       "    <tr>\n",
       "      <th>11160</th>\n",
       "      <td>43</td>\n",
       "      <td>technician</td>\n",
       "      <td>married</td>\n",
       "      <td>secondary</td>\n",
       "      <td>no</td>\n",
       "      <td>0.0</td>\n",
       "      <td>no</td>\n",
       "      <td>yes</td>\n",
       "      <td>cellular</td>\n",
       "      <td>8</td>\n",
       "      <td>may</td>\n",
       "      <td>9</td>\n",
       "      <td>2</td>\n",
       "      <td>172</td>\n",
       "      <td>5</td>\n",
       "      <td>failure</td>\n",
       "      <td>no</td>\n",
       "    </tr>\n",
       "    <tr>\n",
       "      <th>11161</th>\n",
       "      <td>34</td>\n",
       "      <td>technician</td>\n",
       "      <td>married</td>\n",
       "      <td>secondary</td>\n",
       "      <td>no</td>\n",
       "      <td>0.0</td>\n",
       "      <td>no</td>\n",
       "      <td>no</td>\n",
       "      <td>cellular</td>\n",
       "      <td>9</td>\n",
       "      <td>jul</td>\n",
       "      <td>628</td>\n",
       "      <td>1</td>\n",
       "      <td>-1</td>\n",
       "      <td>0</td>\n",
       "      <td>unknown</td>\n",
       "      <td>no</td>\n",
       "    </tr>\n",
       "  </tbody>\n",
       "</table>\n",
       "<p>10105 rows × 17 columns</p>\n",
       "</div>"
      ],
      "text/plain": [
       "       age          job  marital  education default  balance housing loan  \\\n",
       "0       59       admin.  married  secondary      no   2343.0     yes   no   \n",
       "1       56       admin.  married  secondary      no     45.0      no   no   \n",
       "2       41   technician  married  secondary      no   1270.0     yes   no   \n",
       "3       55     services  married  secondary      no   2476.0     yes   no   \n",
       "4       54       admin.  married   tertiary      no    184.0      no   no   \n",
       "...    ...          ...      ...        ...     ...      ...     ...  ...   \n",
       "11157   33  blue-collar   single    primary      no      1.0     yes   no   \n",
       "11158   39     services  married  secondary      no    733.0      no   no   \n",
       "11159   32   technician   single  secondary      no     29.0      no   no   \n",
       "11160   43   technician  married  secondary      no      0.0      no  yes   \n",
       "11161   34   technician  married  secondary      no      0.0      no   no   \n",
       "\n",
       "        contact  day month  duration  campaign  pdays  previous poutcome  \\\n",
       "0       unknown    5   may      1042         1     -1         0  unknown   \n",
       "1       unknown    5   may      1467         1     -1         0  unknown   \n",
       "2       unknown    5   may      1389         1     -1         0  unknown   \n",
       "3       unknown    5   may       579         1     -1         0  unknown   \n",
       "4       unknown    5   may       673         2     -1         0  unknown   \n",
       "...         ...  ...   ...       ...       ...    ...       ...      ...   \n",
       "11157  cellular   20   apr       257         1     -1         0  unknown   \n",
       "11158   unknown   16   jun        83         4     -1         0  unknown   \n",
       "11159  cellular   19   aug       156         2     -1         0  unknown   \n",
       "11160  cellular    8   may         9         2    172         5  failure   \n",
       "11161  cellular    9   jul       628         1     -1         0  unknown   \n",
       "\n",
       "      deposit  \n",
       "0         yes  \n",
       "1         yes  \n",
       "2         yes  \n",
       "3         yes  \n",
       "4         yes  \n",
       "...       ...  \n",
       "11157      no  \n",
       "11158      no  \n",
       "11159      no  \n",
       "11160      no  \n",
       "11161      no  \n",
       "\n",
       "[10105 rows x 17 columns]"
      ]
     },
     "execution_count": 109,
     "metadata": {},
     "output_type": "execute_result"
    }
   ],
   "source": [
    "df"
   ]
  },
  {
   "cell_type": "markdown",
   "id": "821dc39e",
   "metadata": {},
   "source": [
    "### Задания 4 и 5"
   ]
  },
  {
   "cell_type": "code",
   "execution_count": null,
   "id": "bf45afc9",
   "metadata": {},
   "outputs": [
    {
     "ename": "",
     "evalue": "",
     "output_type": "error",
     "traceback": [
      "\u001b[1;31mFailed to start the Kernel. \n",
      "\u001b[1;31mUnable to start Kernel 'Python 3.9.13' due to a timeout waiting for the ports to get used. \n",
      "\u001b[1;31mView Jupyter <a href='command:jupyter.viewOutput'>log</a> for further details."
     ]
    }
   ],
   "source": [
    "#рассчитайте описательные статистики для категориальных переменных, проинтерпретируйте результат\n",
    "#ваш код\n",
    "#постройте визуализации, иллюстрирующие результаты"
   ]
  },
  {
   "cell_type": "markdown",
   "id": "472cff5b",
   "metadata": {},
   "source": [
    "### Задание 6"
   ]
  },
  {
   "cell_type": "code",
   "execution_count": null,
   "id": "2d640ce1",
   "metadata": {},
   "outputs": [
    {
     "ename": "",
     "evalue": "",
     "output_type": "error",
     "traceback": [
      "\u001b[1;31mFailed to start the Kernel. \n",
      "\u001b[1;31mUnable to start Kernel 'Python 3.9.13' due to a timeout waiting for the ports to get used. \n",
      "\u001b[1;31mView Jupyter <a href='command:jupyter.viewOutput'>log</a> for further details."
     ]
    }
   ],
   "source": [
    "# Узнайте, для какого статуса предыдущей маркетинговой кампании успех в текущей превалирует над количеством неудач.\n",
    "# ваш код"
   ]
  },
  {
   "cell_type": "markdown",
   "id": "9c32e3aa",
   "metadata": {},
   "source": [
    "### Задание 7"
   ]
  },
  {
   "cell_type": "code",
   "execution_count": null,
   "id": "df437ec3",
   "metadata": {},
   "outputs": [
    {
     "ename": "",
     "evalue": "",
     "output_type": "error",
     "traceback": [
      "\u001b[1;31mFailed to start the Kernel. \n",
      "\u001b[1;31mUnable to start Kernel 'Python 3.9.13' due to a timeout waiting for the ports to get used. \n",
      "\u001b[1;31mView Jupyter <a href='command:jupyter.viewOutput'>log</a> for further details."
     ]
    }
   ],
   "source": [
    "# узнайте, в каком месяце чаще всего отказывались от предложения открыть депозит\n",
    "# ваш код"
   ]
  },
  {
   "cell_type": "markdown",
   "id": "5f20762f",
   "metadata": {},
   "source": [
    "### Задание 8"
   ]
  },
  {
   "cell_type": "code",
   "execution_count": null,
   "id": "95d56f1b",
   "metadata": {},
   "outputs": [
    {
     "ename": "",
     "evalue": "",
     "output_type": "error",
     "traceback": [
      "\u001b[1;31mFailed to start the Kernel. \n",
      "\u001b[1;31mUnable to start Kernel 'Python 3.9.13' due to a timeout waiting for the ports to get used. \n",
      "\u001b[1;31mView Jupyter <a href='command:jupyter.viewOutput'>log</a> for further details."
     ]
    }
   ],
   "source": [
    "# создайте возрастные группы и определите, в каких группах более склонны открывать депозит, чем отказываться от предложения"
   ]
  },
  {
   "cell_type": "markdown",
   "id": "0841c685",
   "metadata": {},
   "source": [
    "### Задания 9 и 10"
   ]
  },
  {
   "cell_type": "code",
   "execution_count": null,
   "id": "0d84a9e1",
   "metadata": {},
   "outputs": [
    {
     "ename": "",
     "evalue": "",
     "output_type": "error",
     "traceback": [
      "\u001b[1;31mFailed to start the Kernel. \n",
      "\u001b[1;31mUnable to start Kernel 'Python 3.9.13' due to a timeout waiting for the ports to get used. \n",
      "\u001b[1;31mView Jupyter <a href='command:jupyter.viewOutput'>log</a> for further details."
     ]
    }
   ],
   "source": [
    "# постройте визуализации для открывших и неоткрывших депозит в зависимости от семейного статуса"
   ]
  },
  {
   "cell_type": "code",
   "execution_count": null,
   "id": "16333967",
   "metadata": {},
   "outputs": [
    {
     "ename": "",
     "evalue": "",
     "output_type": "error",
     "traceback": [
      "\u001b[1;31mFailed to start the Kernel. \n",
      "\u001b[1;31mUnable to start Kernel 'Python 3.9.13' due to a timeout waiting for the ports to get used. \n",
      "\u001b[1;31mView Jupyter <a href='command:jupyter.viewOutput'>log</a> for further details."
     ]
    }
   ],
   "source": [
    "# постройте визуализации для открывших и неоткрывших депозит в зависимости от образования"
   ]
  },
  {
   "cell_type": "code",
   "execution_count": null,
   "id": "738224f8",
   "metadata": {},
   "outputs": [
    {
     "ename": "",
     "evalue": "",
     "output_type": "error",
     "traceback": [
      "\u001b[1;31mFailed to start the Kernel. \n",
      "\u001b[1;31mUnable to start Kernel 'Python 3.9.13' due to a timeout waiting for the ports to get used. \n",
      "\u001b[1;31mView Jupyter <a href='command:jupyter.viewOutput'>log</a> for further details."
     ]
    }
   ],
   "source": [
    "# постройте визуализации для открывших и неоткрывших депозит в зависимости от вида профессиональной занятости"
   ]
  },
  {
   "cell_type": "markdown",
   "id": "a521e204",
   "metadata": {},
   "source": [
    "### Задание 11"
   ]
  },
  {
   "cell_type": "code",
   "execution_count": null,
   "id": "35ab0413",
   "metadata": {},
   "outputs": [
    {
     "ename": "",
     "evalue": "",
     "output_type": "error",
     "traceback": [
      "\u001b[1;31mFailed to start the Kernel. \n",
      "\u001b[1;31mUnable to start Kernel 'Python 3.9.13' due to a timeout waiting for the ports to get used. \n",
      "\u001b[1;31mView Jupyter <a href='command:jupyter.viewOutput'>log</a> for further details."
     ]
    }
   ],
   "source": [
    "# постройте сводную таблицу, чтобы определить люди с каким образованием и семейным статусом наиболее многочисленны\n",
    "#(если рассматривать тех, кто открыл депозит)"
   ]
  },
  {
   "cell_type": "markdown",
   "id": "dfd805c0",
   "metadata": {},
   "source": [
    "## Часть 3: преобразование данных"
   ]
  },
  {
   "cell_type": "markdown",
   "id": "e44e715b",
   "metadata": {},
   "source": [
    "### Задание 1"
   ]
  },
  {
   "cell_type": "code",
   "execution_count": null,
   "id": "1e815773",
   "metadata": {},
   "outputs": [
    {
     "ename": "",
     "evalue": "",
     "output_type": "error",
     "traceback": [
      "\u001b[1;31mFailed to start the Kernel. \n",
      "\u001b[1;31mUnable to start Kernel 'Python 3.9.13' due to a timeout waiting for the ports to get used. \n",
      "\u001b[1;31mView Jupyter <a href='command:jupyter.viewOutput'>log</a> for further details."
     ]
    }
   ],
   "source": [
    "# преобразуйте уровни образования"
   ]
  },
  {
   "cell_type": "markdown",
   "id": "8c93e73d",
   "metadata": {},
   "source": [
    "### Задания 2 и 3"
   ]
  },
  {
   "cell_type": "code",
   "execution_count": null,
   "id": "626a5762",
   "metadata": {},
   "outputs": [
    {
     "ename": "",
     "evalue": "",
     "output_type": "error",
     "traceback": [
      "\u001b[1;31mFailed to start the Kernel. \n",
      "\u001b[1;31mUnable to start Kernel 'Python 3.9.13' due to a timeout waiting for the ports to get used. \n",
      "\u001b[1;31mView Jupyter <a href='command:jupyter.viewOutput'>log</a> for further details."
     ]
    }
   ],
   "source": [
    "# преобразуйте бинарные переменные в представление из нулей и единиц"
   ]
  },
  {
   "cell_type": "markdown",
   "id": "c40dc02a",
   "metadata": {},
   "source": [
    "### Задание 4"
   ]
  },
  {
   "cell_type": "code",
   "execution_count": null,
   "id": "b996883f",
   "metadata": {},
   "outputs": [
    {
     "ename": "",
     "evalue": "",
     "output_type": "error",
     "traceback": [
      "\u001b[1;31mFailed to start the Kernel. \n",
      "\u001b[1;31mUnable to start Kernel 'Python 3.9.13' due to a timeout waiting for the ports to get used. \n",
      "\u001b[1;31mView Jupyter <a href='command:jupyter.viewOutput'>log</a> for further details."
     ]
    }
   ],
   "source": [
    "# создайте дамми-переменные"
   ]
  },
  {
   "cell_type": "markdown",
   "id": "9a23e318",
   "metadata": {},
   "source": [
    "### Задания 5 и 6"
   ]
  },
  {
   "cell_type": "code",
   "execution_count": null,
   "id": "1c884c1a",
   "metadata": {},
   "outputs": [
    {
     "ename": "",
     "evalue": "",
     "output_type": "error",
     "traceback": [
      "\u001b[1;31mFailed to start the Kernel. \n",
      "\u001b[1;31mUnable to start Kernel 'Python 3.9.13' due to a timeout waiting for the ports to get used. \n",
      "\u001b[1;31mView Jupyter <a href='command:jupyter.viewOutput'>log</a> for further details."
     ]
    }
   ],
   "source": [
    "# постройте корреляционную матрицу и оцените данные на предмет наличия мультиколлинеарности"
   ]
  },
  {
   "cell_type": "markdown",
   "id": "b5b4c1a5",
   "metadata": {},
   "source": [
    "### Задания 7 и 8"
   ]
  },
  {
   "cell_type": "code",
   "execution_count": null,
   "id": "79f3e432",
   "metadata": {},
   "outputs": [
    {
     "ename": "",
     "evalue": "",
     "output_type": "error",
     "traceback": [
      "\u001b[1;31mFailed to start the Kernel. \n",
      "\u001b[1;31mUnable to start Kernel 'Python 3.9.13' due to a timeout waiting for the ports to get used. \n",
      "\u001b[1;31mView Jupyter <a href='command:jupyter.viewOutput'>log</a> for further details."
     ]
    }
   ],
   "source": [
    "X = df.drop(['deposit'], axis=1)\n",
    "y = df['deposit']\n",
    " \n",
    "X_train, X_test, y_train, y_test = train_test_split(X, y, stratify=y, random_state = 42, test_size = 0.33)"
   ]
  },
  {
   "cell_type": "code",
   "execution_count": null,
   "id": "e3a097a4",
   "metadata": {},
   "outputs": [
    {
     "ename": "",
     "evalue": "",
     "output_type": "error",
     "traceback": [
      "\u001b[1;31mFailed to start the Kernel. \n",
      "\u001b[1;31mUnable to start Kernel 'Python 3.9.13' due to a timeout waiting for the ports to get used. \n",
      "\u001b[1;31mView Jupyter <a href='command:jupyter.viewOutput'>log</a> for further details."
     ]
    }
   ],
   "source": [
    "# рассчитайте необходимые показатели"
   ]
  },
  {
   "cell_type": "markdown",
   "id": "2e381a4f",
   "metadata": {},
   "source": [
    "### Задание 9"
   ]
  },
  {
   "cell_type": "code",
   "execution_count": null,
   "id": "0f6e03e0",
   "metadata": {},
   "outputs": [
    {
     "ename": "",
     "evalue": "",
     "output_type": "error",
     "traceback": [
      "\u001b[1;31mFailed to start the Kernel. \n",
      "\u001b[1;31mUnable to start Kernel 'Python 3.9.13' due to a timeout waiting for the ports to get used. \n",
      "\u001b[1;31mView Jupyter <a href='command:jupyter.viewOutput'>log</a> for further details."
     ]
    }
   ],
   "source": [
    "# с помощью SelectKBest отберите 15 наиболее подходящих признаков"
   ]
  },
  {
   "cell_type": "markdown",
   "id": "60132ef3",
   "metadata": {},
   "source": [
    "### Задание 10"
   ]
  },
  {
   "cell_type": "code",
   "execution_count": null,
   "id": "e91b06f3",
   "metadata": {},
   "outputs": [
    {
     "ename": "",
     "evalue": "",
     "output_type": "error",
     "traceback": [
      "\u001b[1;31mFailed to start the Kernel. \n",
      "\u001b[1;31mUnable to start Kernel 'Python 3.9.13' due to a timeout waiting for the ports to get used. \n",
      "\u001b[1;31mView Jupyter <a href='command:jupyter.viewOutput'>log</a> for further details."
     ]
    }
   ],
   "source": [
    "# нормализуйте данные с помощью minmaxsxaler"
   ]
  },
  {
   "cell_type": "markdown",
   "id": "0894c632",
   "metadata": {},
   "source": [
    "# Часть 4: Решение задачи классификации: логистическая регрессия и решающие деревья"
   ]
  },
  {
   "cell_type": "markdown",
   "id": "41b8ff06",
   "metadata": {},
   "source": [
    "### Задание 1"
   ]
  },
  {
   "cell_type": "code",
   "execution_count": null,
   "id": "8acc0166",
   "metadata": {},
   "outputs": [
    {
     "ename": "",
     "evalue": "",
     "output_type": "error",
     "traceback": [
      "\u001b[1;31mFailed to start the Kernel. \n",
      "\u001b[1;31mUnable to start Kernel 'Python 3.9.13' due to a timeout waiting for the ports to get used. \n",
      "\u001b[1;31mView Jupyter <a href='command:jupyter.viewOutput'>log</a> for further details."
     ]
    }
   ],
   "source": [
    "# обучите логистическую регрессию и рассчитайте метрики качества"
   ]
  },
  {
   "cell_type": "markdown",
   "id": "29b7e0ba",
   "metadata": {},
   "source": [
    "### Задания 2,3,4"
   ]
  },
  {
   "cell_type": "code",
   "execution_count": null,
   "id": "c91a588b",
   "metadata": {},
   "outputs": [
    {
     "ename": "",
     "evalue": "",
     "output_type": "error",
     "traceback": [
      "\u001b[1;31mFailed to start the Kernel. \n",
      "\u001b[1;31mUnable to start Kernel 'Python 3.9.13' due to a timeout waiting for the ports to get used. \n",
      "\u001b[1;31mView Jupyter <a href='command:jupyter.viewOutput'>log</a> for further details."
     ]
    }
   ],
   "source": [
    "# обучите решающие деревья, настройте максимальную глубину"
   ]
  },
  {
   "cell_type": "markdown",
   "id": "fe823c18",
   "metadata": {},
   "source": [
    "### Задание 5"
   ]
  },
  {
   "cell_type": "code",
   "execution_count": null,
   "id": "63574943",
   "metadata": {},
   "outputs": [
    {
     "ename": "",
     "evalue": "",
     "output_type": "error",
     "traceback": [
      "\u001b[1;31mFailed to start the Kernel. \n",
      "\u001b[1;31mUnable to start Kernel 'Python 3.9.13' due to a timeout waiting for the ports to get used. \n",
      "\u001b[1;31mView Jupyter <a href='command:jupyter.viewOutput'>log</a> for further details."
     ]
    }
   ],
   "source": [
    "# подберите оптимальные параметры с помощью gridsearch"
   ]
  },
  {
   "cell_type": "markdown",
   "id": "ed0fc831",
   "metadata": {},
   "source": [
    "# Часть 5: Решение задачи классификации: ансамбли моделей и построение прогноза"
   ]
  },
  {
   "cell_type": "markdown",
   "id": "f9e36ff2",
   "metadata": {},
   "source": [
    "### Задание 1"
   ]
  },
  {
   "cell_type": "code",
   "execution_count": null,
   "id": "e708e3fe",
   "metadata": {},
   "outputs": [
    {
     "ename": "",
     "evalue": "",
     "output_type": "error",
     "traceback": [
      "\u001b[1;31mFailed to start the Kernel. \n",
      "\u001b[1;31mUnable to start Kernel 'Python 3.9.13' due to a timeout waiting for the ports to get used. \n",
      "\u001b[1;31mView Jupyter <a href='command:jupyter.viewOutput'>log</a> for further details."
     ]
    }
   ],
   "source": [
    "# обучите на ваших данных случайный лес"
   ]
  },
  {
   "cell_type": "markdown",
   "id": "71d7b13d",
   "metadata": {},
   "source": [
    "### Задания 2 и 3"
   ]
  },
  {
   "cell_type": "code",
   "execution_count": null,
   "id": "99f12dfe",
   "metadata": {},
   "outputs": [
    {
     "ename": "",
     "evalue": "",
     "output_type": "error",
     "traceback": [
      "\u001b[1;31mFailed to start the Kernel. \n",
      "\u001b[1;31mUnable to start Kernel 'Python 3.9.13' due to a timeout waiting for the ports to get used. \n",
      "\u001b[1;31mView Jupyter <a href='command:jupyter.viewOutput'>log</a> for further details."
     ]
    }
   ],
   "source": [
    "# используйте для классификации градиентный бустинг и сравните качество со случайным лесом"
   ]
  },
  {
   "cell_type": "markdown",
   "id": "b08718ae",
   "metadata": {},
   "source": [
    "### Задание 4"
   ]
  },
  {
   "cell_type": "code",
   "execution_count": null,
   "id": "0bd42fb0",
   "metadata": {},
   "outputs": [
    {
     "ename": "",
     "evalue": "",
     "output_type": "error",
     "traceback": [
      "\u001b[1;31mFailed to start the Kernel. \n",
      "\u001b[1;31mUnable to start Kernel 'Python 3.9.13' due to a timeout waiting for the ports to get used. \n",
      "\u001b[1;31mView Jupyter <a href='command:jupyter.viewOutput'>log</a> for further details."
     ]
    }
   ],
   "source": [
    "# объедините уже известные вам алгоритмы с помощью стекинга "
   ]
  },
  {
   "cell_type": "markdown",
   "id": "6247a5fb",
   "metadata": {},
   "source": [
    "### Задание 5"
   ]
  },
  {
   "cell_type": "code",
   "execution_count": null,
   "id": "35de769c",
   "metadata": {},
   "outputs": [
    {
     "ename": "",
     "evalue": "",
     "output_type": "error",
     "traceback": [
      "\u001b[1;31mFailed to start the Kernel. \n",
      "\u001b[1;31mUnable to start Kernel 'Python 3.9.13' due to a timeout waiting for the ports to get used. \n",
      "\u001b[1;31mView Jupyter <a href='command:jupyter.viewOutput'>log</a> for further details."
     ]
    }
   ],
   "source": [
    "# оцените, какие признаки демонстрируют наибольшую  важность в модели градиентного бустинга"
   ]
  },
  {
   "cell_type": "markdown",
   "id": "96974dda",
   "metadata": {},
   "source": [
    "### Задания 6,7,8"
   ]
  },
  {
   "cell_type": "code",
   "execution_count": null,
   "id": "c48e29e9",
   "metadata": {},
   "outputs": [
    {
     "ename": "",
     "evalue": "",
     "output_type": "error",
     "traceback": [
      "\u001b[1;31mFailed to start the Kernel. \n",
      "\u001b[1;31mUnable to start Kernel 'Python 3.9.13' due to a timeout waiting for the ports to get used. \n",
      "\u001b[1;31mView Jupyter <a href='command:jupyter.viewOutput'>log</a> for further details."
     ]
    }
   ],
   "source": [
    "# реализуйте оптимизацию гиперпараметров с помощью Optuna"
   ]
  }
 ],
 "metadata": {
  "kernelspec": {
   "display_name": "Python 3 (ipykernel)",
   "language": "python",
   "name": "python3"
  },
  "language_info": {
   "codemirror_mode": {
    "name": "ipython",
    "version": 3
   },
   "file_extension": ".py",
   "mimetype": "text/x-python",
   "name": "python",
   "nbconvert_exporter": "python",
   "pygments_lexer": "ipython3",
   "version": "3.9.13"
  }
 },
 "nbformat": 4,
 "nbformat_minor": 5
}
